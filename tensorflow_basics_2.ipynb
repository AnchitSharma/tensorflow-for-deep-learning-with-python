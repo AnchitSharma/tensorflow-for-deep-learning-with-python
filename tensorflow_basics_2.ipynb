{
  "nbformat": 4,
  "nbformat_minor": 0,
  "metadata": {
    "colab": {
      "name": "tensorflow basics 2.ipynb",
      "provenance": [],
      "authorship_tag": "ABX9TyNI+26pfzTeqLAn2FXBbiNa",
      "include_colab_link": true
    },
    "kernelspec": {
      "name": "python3",
      "display_name": "Python 3"
    }
  },
  "cells": [
    {
      "cell_type": "markdown",
      "metadata": {
        "id": "view-in-github",
        "colab_type": "text"
      },
      "source": [
        "<a href=\"https://colab.research.google.com/github/AnchitSharma/tensorflow-for-deep-learning-with-python/blob/master/tensorflow_basics_2.ipynb\" target=\"_parent\"><img src=\"https://colab.research.google.com/assets/colab-badge.svg\" alt=\"Open In Colab\"/></a>"
      ]
    },
    {
      "cell_type": "code",
      "metadata": {
        "id": "QvXwq2y7c_iU",
        "colab_type": "code",
        "colab": {
          "base_uri": "https://localhost:8080/",
          "height": 34
        },
        "outputId": "9b3a14aa-190c-4f69-81a6-4c406696f2c2"
      },
      "source": [
        "%tensorflow_version 1.x"
      ],
      "execution_count": 1,
      "outputs": [
        {
          "output_type": "stream",
          "text": [
            "TensorFlow 1.x selected.\n"
          ],
          "name": "stdout"
        }
      ]
    },
    {
      "cell_type": "code",
      "metadata": {
        "id": "8AWhhDe7cEC0",
        "colab_type": "code",
        "colab": {}
      },
      "source": [
        "import numpy as np\n",
        "import pandas as pd\n",
        "import matplotlib.pyplot as plt\n",
        "import tensorflow as tf"
      ],
      "execution_count": 2,
      "outputs": []
    },
    {
      "cell_type": "code",
      "metadata": {
        "id": "tSwb-oKXdIHQ",
        "colab_type": "code",
        "colab": {}
      },
      "source": [
        "x_data = np.linspace(0, 10, 1000000)\n",
        "noise = np.random.randn(len(x_data))"
      ],
      "execution_count": 3,
      "outputs": []
    },
    {
      "cell_type": "code",
      "metadata": {
        "id": "rkBNWO9dddOf",
        "colab_type": "code",
        "colab": {
          "base_uri": "https://localhost:8080/",
          "height": 51
        },
        "outputId": "1006b9f0-38fc-4b97-9de0-d54fb1cf225c"
      },
      "source": [
        "x_data"
      ],
      "execution_count": 5,
      "outputs": [
        {
          "output_type": "execute_result",
          "data": {
            "text/plain": [
              "array([0.000000e+00, 1.000001e-05, 2.000002e-05, ..., 9.999980e+00,\n",
              "       9.999990e+00, 1.000000e+01])"
            ]
          },
          "metadata": {
            "tags": []
          },
          "execution_count": 5
        }
      ]
    },
    {
      "cell_type": "markdown",
      "metadata": {
        "id": "OdFeZGucdmLA",
        "colab_type": "text"
      },
      "source": [
        "y = mx + b"
      ]
    },
    {
      "cell_type": "code",
      "metadata": {
        "id": "HznSSQLxdhZP",
        "colab_type": "code",
        "colab": {}
      },
      "source": [
        "y_true = (0.5 * x_data) + 5 + noise"
      ],
      "execution_count": 6,
      "outputs": []
    },
    {
      "cell_type": "code",
      "metadata": {
        "id": "zBUp878wdvh3",
        "colab_type": "code",
        "colab": {
          "base_uri": "https://localhost:8080/",
          "height": 51
        },
        "outputId": "744280f7-51ae-47f7-9e19-179fc74e0a38"
      },
      "source": [
        "y_true"
      ],
      "execution_count": 7,
      "outputs": [
        {
          "output_type": "execute_result",
          "data": {
            "text/plain": [
              "array([ 5.75101913,  6.67083376,  4.36166463, ...,  8.46353512,\n",
              "       10.49986278, 12.05819941])"
            ]
          },
          "metadata": {
            "tags": []
          },
          "execution_count": 7
        }
      ]
    },
    {
      "cell_type": "code",
      "metadata": {
        "id": "oOVRdLdUdxKH",
        "colab_type": "code",
        "colab": {}
      },
      "source": [
        "x_df = pd.DataFrame(data=x_data, columns=[\"X Data\"])"
      ],
      "execution_count": 8,
      "outputs": []
    },
    {
      "cell_type": "code",
      "metadata": {
        "id": "2ybf8XePd9ef",
        "colab_type": "code",
        "colab": {}
      },
      "source": [
        "y_df = pd.DataFrame(data=y_true, columns=[\"Y\"])"
      ],
      "execution_count": 9,
      "outputs": []
    },
    {
      "cell_type": "code",
      "metadata": {
        "id": "K8AxzHAVeDx-",
        "colab_type": "code",
        "colab": {}
      },
      "source": [
        "my_data = pd.concat([x_df, y_df], axis=1)"
      ],
      "execution_count": 14,
      "outputs": []
    },
    {
      "cell_type": "code",
      "metadata": {
        "id": "BWSCXqpyeIVW",
        "colab_type": "code",
        "colab": {
          "base_uri": "https://localhost:8080/",
          "height": 204
        },
        "outputId": "b63ea872-fcfd-41bd-e257-4338d5a1b171"
      },
      "source": [
        "my_data.head()"
      ],
      "execution_count": 15,
      "outputs": [
        {
          "output_type": "execute_result",
          "data": {
            "text/html": [
              "<div>\n",
              "<style scoped>\n",
              "    .dataframe tbody tr th:only-of-type {\n",
              "        vertical-align: middle;\n",
              "    }\n",
              "\n",
              "    .dataframe tbody tr th {\n",
              "        vertical-align: top;\n",
              "    }\n",
              "\n",
              "    .dataframe thead th {\n",
              "        text-align: right;\n",
              "    }\n",
              "</style>\n",
              "<table border=\"1\" class=\"dataframe\">\n",
              "  <thead>\n",
              "    <tr style=\"text-align: right;\">\n",
              "      <th></th>\n",
              "      <th>X Data</th>\n",
              "      <th>Y</th>\n",
              "    </tr>\n",
              "  </thead>\n",
              "  <tbody>\n",
              "    <tr>\n",
              "      <th>0</th>\n",
              "      <td>0.00000</td>\n",
              "      <td>5.751019</td>\n",
              "    </tr>\n",
              "    <tr>\n",
              "      <th>1</th>\n",
              "      <td>0.00001</td>\n",
              "      <td>6.670834</td>\n",
              "    </tr>\n",
              "    <tr>\n",
              "      <th>2</th>\n",
              "      <td>0.00002</td>\n",
              "      <td>4.361665</td>\n",
              "    </tr>\n",
              "    <tr>\n",
              "      <th>3</th>\n",
              "      <td>0.00003</td>\n",
              "      <td>6.117671</td>\n",
              "    </tr>\n",
              "    <tr>\n",
              "      <th>4</th>\n",
              "      <td>0.00004</td>\n",
              "      <td>5.250137</td>\n",
              "    </tr>\n",
              "  </tbody>\n",
              "</table>\n",
              "</div>"
            ],
            "text/plain": [
              "    X Data         Y\n",
              "0  0.00000  5.751019\n",
              "1  0.00001  6.670834\n",
              "2  0.00002  4.361665\n",
              "3  0.00003  6.117671\n",
              "4  0.00004  5.250137"
            ]
          },
          "metadata": {
            "tags": []
          },
          "execution_count": 15
        }
      ]
    },
    {
      "cell_type": "code",
      "metadata": {
        "id": "PcOlUZNUeeTQ",
        "colab_type": "code",
        "colab": {
          "base_uri": "https://localhost:8080/",
          "height": 296
        },
        "outputId": "5db02442-7953-4af7-e488-7fca84367f49"
      },
      "source": [
        "my_data.sample(250).plot(kind=\"scatter\", x= \"X Data\", y=\"Y\")"
      ],
      "execution_count": 16,
      "outputs": [
        {
          "output_type": "execute_result",
          "data": {
            "text/plain": [
              "<matplotlib.axes._subplots.AxesSubplot at 0x7f6ac9a0a160>"
            ]
          },
          "metadata": {
            "tags": []
          },
          "execution_count": 16
        },
        {
          "output_type": "display_data",
          "data": {
            "image/png": "[encoded data removed]",
            "text/plain": [
              "<Figure size 432x288 with 1 Axes>"
            ]
          },
          "metadata": {
            "tags": [],
            "needs_background": "light"
          }
        }
      ]
    },
    {
      "cell_type": "code",
      "metadata": {
        "id": "Tiz2UKgTetd0",
        "colab_type": "code",
        "colab": {}
      },
      "source": [
        "batch_size = 8"
      ],
      "execution_count": 17,
      "outputs": []
    },
    {
      "cell_type": "code",
      "metadata": {
        "id": "N127KUl0ez-r",
        "colab_type": "code",
        "colab": {
          "base_uri": "https://localhost:8080/",
          "height": 34
        },
        "outputId": "96740d7c-7bca-4422-bba2-59dd893aaa13"
      },
      "source": [
        "np.random.randn(2)"
      ],
      "execution_count": 18,
      "outputs": [
        {
          "output_type": "execute_result",
          "data": {
            "text/plain": [
              "array([ 1.59653008, -0.13910723])"
            ]
          },
          "metadata": {
            "tags": []
          },
          "execution_count": 18
        }
      ]
    },
    {
      "cell_type": "code",
      "metadata": {
        "id": "qmLzN0Y1e5uL",
        "colab_type": "code",
        "colab": {}
      },
      "source": [
        "m = tf.Variable(1.59)\n",
        "b = tf.Variable(0.13)"
      ],
      "execution_count": 19,
      "outputs": []
    },
    {
      "cell_type": "code",
      "metadata": {
        "id": "z6AAlWvgfGBM",
        "colab_type": "code",
        "colab": {}
      },
      "source": [
        "xph = tf.placeholder(tf.float32, shape=[batch_size])"
      ],
      "execution_count": 20,
      "outputs": []
    },
    {
      "cell_type": "code",
      "metadata": {
        "id": "rMisJPPdfRG8",
        "colab_type": "code",
        "colab": {}
      },
      "source": [
        "yph = tf.placeholder(tf.float32, [batch_size])"
      ],
      "execution_count": 21,
      "outputs": []
    },
    {
      "cell_type": "code",
      "metadata": {
        "id": "1G0rdiwofYWk",
        "colab_type": "code",
        "colab": {}
      },
      "source": [
        "y_model = xph* m + b"
      ],
      "execution_count": 22,
      "outputs": []
    },
    {
      "cell_type": "code",
      "metadata": {
        "id": "j5UCeJYLfcEy",
        "colab_type": "code",
        "colab": {}
      },
      "source": [
        "error = tf.reduce_sum(tf.square(yph - y_model))"
      ],
      "execution_count": 23,
      "outputs": []
    },
    {
      "cell_type": "code",
      "metadata": {
        "id": "JTbOAl-ffrpq",
        "colab_type": "code",
        "colab": {}
      },
      "source": [
        "optimizer = tf.train.GradientDescentOptimizer(learning_rate=0.001)\n",
        "train = optimizer.minimize(error)"
      ],
      "execution_count": 24,
      "outputs": []
    },
    {
      "cell_type": "code",
      "metadata": {
        "id": "TFqp8ITFf67a",
        "colab_type": "code",
        "colab": {}
      },
      "source": [
        "init = tf.global_variables_initializer()"
      ],
      "execution_count": 25,
      "outputs": []
    },
    {
      "cell_type": "code",
      "metadata": {
        "id": "Q0poGYd6gEfc",
        "colab_type": "code",
        "colab": {}
      },
      "source": [
        "with tf.Session() as sess:\n",
        "  sess.run(init)\n",
        "  batches =10000\n",
        "  for i in range(batches):\n",
        "    rand_ind = np.random.randint(len(x_data), size=batch_size)\n",
        "\n",
        "    feed = {xph: x_data[rand_ind], yph: y_true[rand_ind]}\n",
        "\n",
        "    sess.run(train, feed_dict= feed)\n",
        "\n",
        "\n",
        "  model_m , model_b = sess.run([m, b])\n",
        "\n",
        "\n"
      ],
      "execution_count": 43,
      "outputs": []
    },
    {
      "cell_type": "code",
      "metadata": {
        "id": "fzduSCN0hQJs",
        "colab_type": "code",
        "colab": {
          "base_uri": "https://localhost:8080/",
          "height": 34
        },
        "outputId": "64e00e0a-0211-4c39-bf75-1054761b9492"
      },
      "source": [
        "model_m"
      ],
      "execution_count": 44,
      "outputs": [
        {
          "output_type": "execute_result",
          "data": {
            "text/plain": [
              "0.49645048"
            ]
          },
          "metadata": {
            "tags": []
          },
          "execution_count": 44
        }
      ]
    },
    {
      "cell_type": "code",
      "metadata": {
        "id": "2GOvzjJchd14",
        "colab_type": "code",
        "colab": {
          "base_uri": "https://localhost:8080/",
          "height": 34
        },
        "outputId": "4dbd5d31-59ff-4303-b91b-c4d7189a06f2"
      },
      "source": [
        "model_b"
      ],
      "execution_count": 45,
      "outputs": [
        {
          "output_type": "execute_result",
          "data": {
            "text/plain": [
              "4.9290457"
            ]
          },
          "metadata": {
            "tags": []
          },
          "execution_count": 45
        }
      ]
    },
    {
      "cell_type": "code",
      "metadata": {
        "id": "zLx6rU_ahfN_",
        "colab_type": "code",
        "colab": {}
      },
      "source": [
        "y_hat = model_m*x_data + model_b"
      ],
      "execution_count": 46,
      "outputs": []
    },
    {
      "cell_type": "code",
      "metadata": {
        "id": "q2lMhsmwhpMX",
        "colab_type": "code",
        "colab": {
          "base_uri": "https://localhost:8080/",
          "height": 297
        },
        "outputId": "e3c0551a-7592-404d-8099-1a18bd090822"
      },
      "source": [
        "my_data.sample(250).plot(kind=\"scatter\", x=\"X Data\", y=\"Y\")\n",
        "plt.plot(x_data, y_hat, 'r')"
      ],
      "execution_count": 47,
      "outputs": [
        {
          "output_type": "execute_result",
          "data": {
            "text/plain": [
              "[<matplotlib.lines.Line2D at 0x7f6ab369e7b8>]"
            ]
          },
          "metadata": {
            "tags": []
          },
          "execution_count": 47
        },
        {
          "output_type": "display_data",
          "data": {
            "image/png": "[encoded data removed]",
            "text/plain": [
              "<Figure size 432x288 with 1 Axes>"
            ]
          },
          "metadata": {
            "tags": [],
            "needs_background": "light"
          }
        }
      ]
    },
    {
      "cell_type": "code",
      "metadata": {
        "id": "GLDd-zNGh5_4",
        "colab_type": "code",
        "colab": {}
      },
      "source": [
        ""
      ],
      "execution_count": null,
      "outputs": []
    }
  ]
}