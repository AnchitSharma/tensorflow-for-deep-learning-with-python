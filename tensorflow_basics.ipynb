{
  "nbformat": 4,
  "nbformat_minor": 0,
  "metadata": {
    "colab": {
      "name": "tensorflow basics.ipynb",
      "provenance": []
    },
    "kernelspec": {
      "name": "python3",
      "display_name": "Python 3"
    }
  },
  "cells": [
    {
      "cell_type": "code",
      "metadata": {
        "id": "4moHuFVu1mPY",
        "colab_type": "code",
        "colab": {}
      },
      "source": [
        "%tensorflow_version 1.x"
      ],
      "execution_count": 24,
      "outputs": []
    },
    {
      "cell_type": "code",
      "metadata": {
        "id": "MkHNJhVFsUYs",
        "colab_type": "code",
        "colab": {}
      },
      "source": [
        "import tensorflow as tf\n",
        "import numpy as np"
      ],
      "execution_count": 25,
      "outputs": []
    },
    {
      "cell_type": "code",
      "metadata": {
        "id": "v26JgTWGsdKu",
        "colab_type": "code",
        "colab": {
          "base_uri": "https://localhost:8080/",
          "height": 35
        },
        "outputId": "1b7128dc-b8da-4ae1-e9c0-3f053e08d32f"
      },
      "source": [
        "tf.__version__"
      ],
      "execution_count": 26,
      "outputs": [
        {
          "output_type": "execute_result",
          "data": {
            "application/vnd.google.colaboratory.intrinsic+json": {
              "type": "string"
            },
            "text/plain": [
              "'1.15.2'"
            ]
          },
          "metadata": {
            "tags": []
          },
          "execution_count": 26
        }
      ]
    },
    {
      "cell_type": "markdown",
      "metadata": {
        "id": "drtRMEL7-UDw",
        "colab_type": "text"
      },
      "source": [
        "### TF Graph"
      ]
    },
    {
      "cell_type": "code",
      "metadata": {
        "id": "YNU-_47r-yYA",
        "colab_type": "code",
        "colab": {}
      },
      "source": [
        "np.random.seed(101)\n",
        "tf.set_random_seed(101)"
      ],
      "execution_count": 27,
      "outputs": []
    },
    {
      "cell_type": "code",
      "metadata": {
        "id": "KwHNVP0tAAqj",
        "colab_type": "code",
        "colab": {
          "base_uri": "https://localhost:8080/",
          "height": 102
        },
        "outputId": "ba2275b0-8d3f-4a65-8ae3-92d23eb6fb15"
      },
      "source": [
        "rand_a = np.random.uniform(0, 100, (5,5))\n",
        "rand_a"
      ],
      "execution_count": 28,
      "outputs": [
        {
          "output_type": "execute_result",
          "data": {
            "text/plain": [
              "array([[51.63986277, 57.06675869,  2.84742265, 17.15216562, 68.52769817],\n",
              "       [83.38968626, 30.69662197, 89.36130797, 72.15438618, 18.99389542],\n",
              "       [55.42275911, 35.2131954 , 18.18924027, 78.56017619, 96.54832224],\n",
              "       [23.23536618,  8.35614337, 60.35484223, 72.89927573, 27.62388285],\n",
              "       [68.53063288, 51.78674742,  4.84845374, 13.78692376, 18.69674261]])"
            ]
          },
          "metadata": {
            "tags": []
          },
          "execution_count": 28
        }
      ]
    },
    {
      "cell_type": "code",
      "metadata": {
        "id": "becFaFiB_CxQ",
        "colab_type": "code",
        "colab": {
          "base_uri": "https://localhost:8080/",
          "height": 102
        },
        "outputId": "d8d27bfa-299c-45e5-942c-980d41d65c81"
      },
      "source": [
        "rand_b = np.random.uniform(0, 100, (5, 1))\n",
        "rand_b"
      ],
      "execution_count": 29,
      "outputs": [
        {
          "output_type": "execute_result",
          "data": {
            "text/plain": [
              "array([[99.43179012],\n",
              "       [52.06653967],\n",
              "       [57.87895355],\n",
              "       [73.48190583],\n",
              "       [54.19617722]])"
            ]
          },
          "metadata": {
            "tags": []
          },
          "execution_count": 29
        }
      ]
    },
    {
      "cell_type": "markdown",
      "metadata": {
        "id": "uzKLCTBR_apk",
        "colab_type": "text"
      },
      "source": [
        "### Placeholder"
      ]
    },
    {
      "cell_type": "code",
      "metadata": {
        "id": "FDY8XH0h_QZ-",
        "colab_type": "code",
        "colab": {}
      },
      "source": [
        "a = tf.placeholder(tf.float32)\n",
        "b = tf.placeholder(tf.float32)"
      ],
      "execution_count": 30,
      "outputs": []
    },
    {
      "cell_type": "markdown",
      "metadata": {
        "id": "4BYGaIv__rqN",
        "colab_type": "text"
      },
      "source": [
        "### Operations"
      ]
    },
    {
      "cell_type": "code",
      "metadata": {
        "id": "XqAMgaZw_po9",
        "colab_type": "code",
        "colab": {}
      },
      "source": [
        "add_op = a + b\n",
        "mult_op = a * b"
      ],
      "execution_count": 31,
      "outputs": []
    },
    {
      "cell_type": "code",
      "metadata": {
        "id": "H41H_7Tj_yIc",
        "colab_type": "code",
        "colab": {
          "base_uri": "https://localhost:8080/",
          "height": 221
        },
        "outputId": "c2ac37fb-35cc-481f-8a84-dcc01c07ec67"
      },
      "source": [
        "with tf.Session() as sess:\n",
        "  add_result = sess.run(add_op, feed_dict={a: rand_a, b:rand_b})\n",
        "  print(add_result)\n",
        "\n",
        "  print(\"\\n\")\n",
        "  mult_result = sess.run(mult_op, feed_dict={a: rand_a, b:rand_b})\n",
        "  print(mult_result)"
      ],
      "execution_count": 32,
      "outputs": [
        {
          "output_type": "stream",
          "text": [
            "[[151.07166  156.49855  102.27921  116.58396  167.95949 ]\n",
            " [135.45622   82.76316  141.42784  124.22093   71.06043 ]\n",
            " [113.30171   93.09215   76.06819  136.43912  154.42728 ]\n",
            " [ 96.71727   81.83804  133.83675  146.38118  101.10579 ]\n",
            " [122.72681  105.982925  59.044632  67.9831    72.89292 ]]\n",
            "\n",
            "\n",
            "[[5134.644   5674.25     283.12433 1705.4707  6813.8315 ]\n",
            " [4341.8125  1598.267   4652.734   3756.8293   988.94635]\n",
            " [3207.8113  2038.1029  1052.7742  4546.9805  5588.1157 ]\n",
            " [1707.379    614.02527 4434.989   5356.7773  2029.8555 ]\n",
            " [3714.0984  2806.6438   262.76764  747.19855 1013.292  ]]\n"
          ],
          "name": "stdout"
        }
      ]
    },
    {
      "cell_type": "markdown",
      "metadata": {
        "id": "RJaxvQtgDA-p",
        "colab_type": "text"
      },
      "source": [
        "### Example Neural Network"
      ]
    },
    {
      "cell_type": "code",
      "metadata": {
        "id": "6D_siWkXAJVV",
        "colab_type": "code",
        "colab": {}
      },
      "source": [
        "n_features = 10\n",
        "n_dense_network = 3"
      ],
      "execution_count": 33,
      "outputs": []
    },
    {
      "cell_type": "code",
      "metadata": {
        "id": "TyRz6y1nDKpT",
        "colab_type": "code",
        "colab": {}
      },
      "source": [
        "# Placeholder for x\n",
        "x = tf.placeholder(tf.float32, shape=(None, n_features))"
      ],
      "execution_count": 34,
      "outputs": []
    },
    {
      "cell_type": "code",
      "metadata": {
        "id": "RKwaK35YDXtP",
        "colab_type": "code",
        "colab": {}
      },
      "source": [
        "# Variables for w and b\n",
        "b = tf.Variable(tf.zeros(n_dense_network))\n",
        "w = tf.Variable(tf.random_normal([n_features, n_dense_network]))"
      ],
      "execution_count": 35,
      "outputs": []
    },
    {
      "cell_type": "markdown",
      "metadata": {
        "id": "Yb9nwpm6ELsY",
        "colab_type": "text"
      },
      "source": [
        "*** Operation Activation Function ***"
      ]
    },
    {
      "cell_type": "code",
      "metadata": {
        "id": "QgQkLtDdD5am",
        "colab_type": "code",
        "colab": {}
      },
      "source": [
        "xW = tf.matmul(x, w)"
      ],
      "execution_count": 36,
      "outputs": []
    },
    {
      "cell_type": "code",
      "metadata": {
        "id": "WsXMpM6hEa9M",
        "colab_type": "code",
        "colab": {}
      },
      "source": [
        "z = tf.add(xW, b)"
      ],
      "execution_count": 37,
      "outputs": []
    },
    {
      "cell_type": "code",
      "metadata": {
        "id": "821FaBdtEfRN",
        "colab_type": "code",
        "colab": {}
      },
      "source": [
        "a = tf.sigmoid(z)"
      ],
      "execution_count": 38,
      "outputs": []
    },
    {
      "cell_type": "markdown",
      "metadata": {
        "id": "FSdgz4oGElO0",
        "colab_type": "text"
      },
      "source": [
        "Variable initializer"
      ]
    },
    {
      "cell_type": "code",
      "metadata": {
        "id": "NQ2GDoJMEjSW",
        "colab_type": "code",
        "colab": {}
      },
      "source": [
        "init = tf.global_variables_initializer()"
      ],
      "execution_count": 39,
      "outputs": []
    },
    {
      "cell_type": "code",
      "metadata": {
        "id": "-G22TSUsErAj",
        "colab_type": "code",
        "colab": {}
      },
      "source": [
        "with tf.Session() as sess:\n",
        "  sess.run(init)\n",
        "\n",
        "  layer_out = sess.run(a, feed_dict={x: np.random.random([1, n_features])})"
      ],
      "execution_count": 40,
      "outputs": []
    },
    {
      "cell_type": "code",
      "metadata": {
        "id": "jTiW47XkFBRE",
        "colab_type": "code",
        "colab": {
          "base_uri": "https://localhost:8080/",
          "height": 34
        },
        "outputId": "56000032-7b24-40a7-cd78-5bedadf2e8c5"
      },
      "source": [
        "print(layer_out)"
      ],
      "execution_count": 41,
      "outputs": [
        {
          "output_type": "stream",
          "text": [
            "[[0.00358296 0.8974064  0.77842164]]\n"
          ],
          "name": "stdout"
        }
      ]
    },
    {
      "cell_type": "markdown",
      "metadata": {
        "id": "xoRXyxJWHyEY",
        "colab_type": "text"
      },
      "source": [
        "# Simple Regression Example"
      ]
    },
    {
      "cell_type": "code",
      "metadata": {
        "id": "U2iPkxcuFEYa",
        "colab_type": "code",
        "colab": {}
      },
      "source": [
        "x_data = np.linspace(0, 10, 10) + np.random.uniform(-1.5, 1.5, 10)"
      ],
      "execution_count": 42,
      "outputs": []
    },
    {
      "cell_type": "code",
      "metadata": {
        "id": "xikR0A5JIEJW",
        "colab_type": "code",
        "colab": {
          "base_uri": "https://localhost:8080/",
          "height": 51
        },
        "outputId": "099a8a88-6de0-436d-c503-ed40fcc5f982"
      },
      "source": [
        "x_data"
      ],
      "execution_count": 43,
      "outputs": [
        {
          "output_type": "execute_result",
          "data": {
            "text/plain": [
              "array([-1.20856056, -0.08034641,  2.82674411,  4.50477294,  3.42312535,\n",
              "        4.88227319,  7.18414126,  6.77068715,  9.4930023 ,  9.96290567])"
            ]
          },
          "metadata": {
            "tags": []
          },
          "execution_count": 43
        }
      ]
    },
    {
      "cell_type": "code",
      "metadata": {
        "id": "6h0h5Z4LIHE4",
        "colab_type": "code",
        "colab": {
          "base_uri": "https://localhost:8080/",
          "height": 51
        },
        "outputId": "5b09cd53-2f50-44e3-dd7e-1106a29eaa18"
      },
      "source": [
        "y_label = np.linspace(0, 10, 10) + np.random.uniform(-1.5, 1.5, 10)\n",
        "y_label"
      ],
      "execution_count": 44,
      "outputs": [
        {
          "output_type": "execute_result",
          "data": {
            "text/plain": [
              "array([0.5420333 , 1.17575569, 0.85241231, 2.50514314, 4.67005971,\n",
              "       4.41685654, 6.66701681, 6.69180648, 7.54731409, 9.03483077])"
            ]
          },
          "metadata": {
            "tags": []
          },
          "execution_count": 44
        }
      ]
    },
    {
      "cell_type": "code",
      "metadata": {
        "id": "NX_qnBdJSFqi",
        "colab_type": "code",
        "colab": {
          "base_uri": "https://localhost:8080/",
          "height": 282
        },
        "outputId": "bf7c9edc-dfd2-4fab-b312-404ba56e300c"
      },
      "source": [
        "import matplotlib.pyplot as plt\n",
        "plt.plot(x_data, y_label, '*')"
      ],
      "execution_count": 46,
      "outputs": [
        {
          "output_type": "execute_result",
          "data": {
            "text/plain": [
              "[<matplotlib.lines.Line2D at 0x7f836325fcc0>]"
            ]
          },
          "metadata": {
            "tags": []
          },
          "execution_count": 46
        },
        {
          "output_type": "display_data",
          "data": {
            "image/png": "[encoded data removed]",
            "text/plain": [
              "<Figure size 432x288 with 1 Axes>"
            ]
          },
          "metadata": {
            "tags": [],
            "needs_background": "light"
          }
        }
      ]
    },
    {
      "cell_type": "markdown",
      "metadata": {
        "id": "ns8_ktsMSZ7o",
        "colab_type": "text"
      },
      "source": [
        "y = mx + b"
      ]
    },
    {
      "cell_type": "code",
      "metadata": {
        "id": "5t54RgleSSBa",
        "colab_type": "code",
        "colab": {
          "base_uri": "https://localhost:8080/",
          "height": 34
        },
        "outputId": "bc6742c6-4fa1-48b1-e838-2bb088dd968c"
      },
      "source": [
        "np.random.rand(2)"
      ],
      "execution_count": 47,
      "outputs": [
        {
          "output_type": "execute_result",
          "data": {
            "text/plain": [
              "array([0.44236813, 0.87758732])"
            ]
          },
          "metadata": {
            "tags": []
          },
          "execution_count": 47
        }
      ]
    },
    {
      "cell_type": "code",
      "metadata": {
        "id": "Mden2NWRSelH",
        "colab_type": "code",
        "colab": {}
      },
      "source": [
        "m = tf.Variable(0.44)\n",
        "b = tf.Variable(0.87)"
      ],
      "execution_count": 48,
      "outputs": []
    },
    {
      "cell_type": "code",
      "metadata": {
        "id": "3yqEcVRZSs6Q",
        "colab_type": "code",
        "colab": {}
      },
      "source": [
        "error = 0\n",
        "\n",
        "for x, y in zip(x_data, y_label):\n",
        "  y_hat = m*x + b\n",
        "\n",
        "  error += (y - y_hat)**2"
      ],
      "execution_count": 49,
      "outputs": []
    },
    {
      "cell_type": "code",
      "metadata": {
        "id": "WZCMrOuRTHdx",
        "colab_type": "code",
        "colab": {
          "base_uri": "https://localhost:8080/",
          "height": 88
        },
        "outputId": "ab3e5991-917d-49e3-8e50-ab95055fba30"
      },
      "source": [
        "optimizer = tf.train.GradientDescentOptimizer(learning_rate=0.001)\n",
        "train = optimizer.minimize(error)"
      ],
      "execution_count": 50,
      "outputs": [
        {
          "output_type": "stream",
          "text": [
            "WARNING:tensorflow:From /tensorflow-1.15.2/python3.6/tensorflow_core/python/ops/math_grad.py:1375: where (from tensorflow.python.ops.array_ops) is deprecated and will be removed in a future version.\n",
            "Instructions for updating:\n",
            "Use tf.where in 2.0, which has the same broadcast rule as np.where\n"
          ],
          "name": "stdout"
        }
      ]
    },
    {
      "cell_type": "code",
      "metadata": {
        "id": "Kj6qIDhhTZwo",
        "colab_type": "code",
        "colab": {}
      },
      "source": [
        "init = tf.global_variables_initializer()"
      ],
      "execution_count": 51,
      "outputs": []
    },
    {
      "cell_type": "code",
      "metadata": {
        "id": "kOQJTIXfTgsw",
        "colab_type": "code",
        "colab": {}
      },
      "source": [
        "with tf.Session() as sess:\n",
        "  sess.run(init)\n",
        "  training_step =100 \n",
        "  for i in range(training_step):\n",
        "    sess.run(train)\n",
        "  \n",
        "  final_slope, final_intercept = sess.run([m, b])"
      ],
      "execution_count": 54,
      "outputs": []
    },
    {
      "cell_type": "code",
      "metadata": {
        "id": "9GlhZvv2UoNH",
        "colab_type": "code",
        "colab": {
          "base_uri": "https://localhost:8080/",
          "height": 282
        },
        "outputId": "29d6afb7-aca1-4c15-8d46-47918b7534d1"
      },
      "source": [
        "x_test = np.linspace(-1, 11, 10)\n",
        "\n",
        "# y = mx + c\n",
        "y_pred_plot = final_slope * x_test + final_intercept\n",
        "plt.plot(x_test, y_pred_plot, 'r')\n",
        "plt.plot(x_data, y_label, '*')"
      ],
      "execution_count": 55,
      "outputs": [
        {
          "output_type": "execute_result",
          "data": {
            "text/plain": [
              "[<matplotlib.lines.Line2D at 0x7f8362b77f98>]"
            ]
          },
          "metadata": {
            "tags": []
          },
          "execution_count": 55
        },
        {
          "output_type": "display_data",
          "data": {
            "image/png": "[encoded data removed]",
            "text/plain": [
              "<Figure size 432x288 with 1 Axes>"
            ]
          },
          "metadata": {
            "tags": [],
            "needs_background": "light"
          }
        }
      ]
    },
    {
      "cell_type": "code",
      "metadata": {
        "id": "vNnFGrXdVLZr",
        "colab_type": "code",
        "colab": {}
      },
      "source": [
        ""
      ],
      "execution_count": null,
      "outputs": []
    }
  ]
}